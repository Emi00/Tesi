{
 "cells": [
  {
   "cell_type": "markdown",
   "metadata": {},
   "source": [
    "# Appunti sulla tesi *ottimizzazione degli algoritmi di ordinamento utilizzando AVX512*"
   ]
  },
  {
   "cell_type": "markdown",
   "metadata": {},
   "source": [
    "## Leggiamo le istruzioni ASM di bubbleSort e selectionSort compilate con varie opzioni:\n",
    "Per comodità utilizzo [godbolt](https://godbolt.org/) per leggere le istruzioni ASM"
   ]
  },
  {
   "cell_type": "markdown",
   "metadata": {},
   "source": [
    "## BubbleSort:"
   ]
  },
  {
   "cell_type": "code",
   "execution_count": null,
   "metadata": {},
   "outputs": [],
   "source": [
    "void bubbleSort(double * v, int n) {\n",
    "    for(int i = n - 1 ; i >= 0 ; i--) {\n",
    "        for(int j = 0 ; j < i ; j++) {\n",
    "            if(v[j] > v[j+1]) {\n",
    "                std::swap(v[j],v[j+1]);\n",
    "            }\n",
    "        }\n",
    "    }\n",
    "}"
   ]
  },
  {
   "cell_type": "markdown",
   "metadata": {},
   "source": [
    "- senza parametri (standard -O0): utilizza i registri principali (rax,rdx,rcx) e traduce ~ 1:1 il codice in c, lungo circa 200 istruzioni\n",
    "- -O1: analogo a prima, ma lungo circa 30 istruzioni\n",
    "- -O2: come con `-O1` ma utilizza i registri xmm e l'istruzione `pshufd` per velocizzare le comparazioni, circa 23 istruzioni\n",
    "- -O3: identico a `-O2`, nessuna differenza\n",
    "- aggiungendo **#pragma GCC target(\"avx512f,avx512dq,avx512cd,avx512bw,avx512vl,avx512vbmi,avx512ifma,avx512pf,avx512er,avx5124fmaps,avx5124vnniw,avx512bitalg,avx512vp2intersect\") #include <immintrin.h>** per cercare di spingere l'utilizzo di AVX512 i risultati non cambiano per `-O1, -O2, -O3`\n"
   ]
  },
  {
   "cell_type": "markdown",
   "metadata": {},
   "source": [
    "# SelectionSort"
   ]
  },
  {
   "cell_type": "code",
   "execution_count": null,
   "metadata": {},
   "outputs": [],
   "source": [
    "void selectionSort(double * v, int dim) {\n",
    "    for(int i = 0 ; i < dim ; i++) {\n",
    "        int idx = i;\n",
    "        for(int j = i + 1 ; j < dim ; j++) {\n",
    "            if(v[j] < v[idx]) {\n",
    "                idx = j;\n",
    "            }\n",
    "        }\n",
    "        swap(v[i],v[idx]);\n",
    "    }\n",
    "}"
   ]
  },
  {
   "cell_type": "markdown",
   "metadata": {},
   "source": [
    "- Senza parametri (standard -O0): utilizza i registri principali e traduce ~1:1, ~80 istruzioni\n",
    "- -O1: utilizza anche registri come r9/r10/r11, sempre 1:1, ~50 istruzioni\n",
    "- -O2: come `-O1` ma ~30 istruzioni\n",
    "- -O3: identico a `-O2`, nessuna differenza\n",
    "- aggiungendo **#pragma GCC target(\"avx512f,avx512dq,avx512cd,avx512bw,avx512vl,avx512vbmi,avx512ifma,avx512pf,avx512er,avx5124fmaps,avx5124vnniw,avx512bitalg,avx512vp2intersect\") #include <immintrin.h>** per cercare di spingere l'utilizzo di AVX512 i risultati non cambiano per `-O1, -O2, -O3`"
   ]
  },
  {
   "cell_type": "markdown",
   "metadata": {},
   "source": [
    "# CountingSort\n",
    "```\n",
    "void countingSort(int * v, int n) {\n",
    "    int a = v[0];\n",
    "    int b = v[0];\n",
    "    for(int i = 0 ; i < n ; i++) {\n",
    "        a = std::max(a,v[i]);\n",
    "        b = std::min(b,v[i]);\n",
    "    }\n",
    "    int counts[a-b+1];\n",
    "    for(int i = 0 ; i < a-b+1 ; i++) {\n",
    "        counts[i] = 0;\n",
    "    }\n",
    "    for(int i = 0 ; i < n ; i++) {\n",
    "        counts[v[i]-b]++;\n",
    "    }\n",
    "    int idx = 0, i = 0;\n",
    "    while(idx < a-b+1) {\n",
    "        if(counts[idx] != 0) {\n",
    "            v[i++] = idx+b;\n",
    "            counts[idx]--;\n",
    "        } else {\n",
    "            idx++;\n",
    "        }\n",
    "    }\n",
    "}\n",
    "```\n",
    "*inserito il limite per ogni variabile a 240000*\n",
    "- Senza parametri (-O0): utilizza i registri principali e traduce ~1:1, ~150 istruzioni\n",
    "- -O1: utilizza nache r8/r9, ~80 istruzioni\n",
    "- -O2: utilizza anche r10+, ~90 istruzioni\n",
    "- -O3: utilizza i registri xmm, ~170 istruzioni"
   ]
  },
  {
   "cell_type": "markdown",
   "metadata": {},
   "source": [
    "## tabella tempi, utilizzata la libreria fatta da Sansone(?) \"timer.cpp\"\n",
    "\n",
    "tempi presi in maniera non rigorosa, utilizzati per fare una prima scrematura, su un array di 1000 valori interi generati con funzione rand(), massimo INT_MAX, con 1000 prove\n",
    "\n",
    "|parametri | bubbleSort | selectionSort | insertionSort | countingSort | \n",
    "|---|---|---|---|---|\n",
    "| default (-O0) | 1125±283 | 534±195 | 757±230 |\n",
    "| -O1 | 349±150 | 275±114 | 454±157 |\n",
    "| -O2 | 1558±264 | 275±116 | 380±156 |\n",
    "| -O3 | 1559±256 | 279±122 | 441±178 |\n",
    "| -O0 + pragma | 1118±247 | 545±202 | 406±156 | 756±210 |\n",
    "| -O1 + pragma| 337±135 | 276±114 | 90±41 | 469±152 |\n",
    "| -O2 + pragma| 372±160 | 275±109 | 79±36 | 376±132 |\n",
    "| -O3 + pragma| 370±156 | 276±118 | 76±34 |456±166 |"
   ]
  },
  {
   "cell_type": "markdown",
   "metadata": {},
   "source": [
    "# Utilizzando le intrinsics\n",
    "Come visto precedentemente il compilatore sfrutta i registri AVX solo per velocizzare le comparazioni tra 2 elementi, non sfruttando le potenzialità delle istruzioni SIMD.\n",
    "Adesso scrivo il codice con le intrinsics SIMD prese da [Intel® Intrinsics Guide](https://www.intel.com/content/www/us/en/docs/intrinsics-guide/index.html)"
   ]
  },
  {
   "cell_type": "markdown",
   "metadata": {},
   "source": [
    "# SelectionSort\n",
    "Iniziamo dall'algoritmo che promette un miglioramento maggiore\n",
    "Da ora in avanti tutti i test sono fatti con parametri -O1, -O2 e -O3 perchè -O0 dà sempre SIGSEGV alle versioni vettorizzate"
   ]
  },
  {
   "cell_type": "markdown",
   "metadata": {},
   "source": [
    "Ho scritto due versioni del selectionSort ricercando le funzioni necessarie su [Intel® Intrinsics Guide](https://www.intel.com/content/www/us/en/docs/intrinsics-guide/index.html) per utilizzare istruzioni AVX512.\n",
    "\n",
    "La prima versione è molto simile al selectionSort senza istruzioni SIMD ma fa paragoni di 8 variabili alla volta e se trova un nuovo minimo cerca elemento per elemento a quale indice si trova.\n",
    "\n",
    "La seconda versione ha la stessa struttura, ma riduce il tempo di esecuzione evitando di fare un ciclo per trovare l'indice, ma utilizzando un algoritmo branchless che sfrutta istruzioni SIMD.\n",
    "\n",
    "Per trovare gli indici esegue una maskz_abs (non ho trovato nessuna funzione che eseguisse soltato una maschera) lasciando nel registro *c* solo gli indici dei valori minimi correnti. A questo punto mi basta uno qualsiasi dei valori diversi da zero rimasti nel registro *c*, utilizzo quindi una reduce_max che restituisce il massimo.\n",
    "\n",
    "Mi aspetto che esistano intrinsics più efficienti, ma al momento è comunque più che sufficiente."
   ]
  },
  {
   "cell_type": "code",
   "execution_count": null,
   "metadata": {},
   "outputs": [],
   "source": [
    "void selectionSortAVX512_v1(double * v, int dim) {\n",
    "    __m512d arr;\n",
    "    for(int i = 0 ; i < dim ; i++) {\n",
    "        double minimum = v[i];\n",
    "        double lastMin = minimum;\n",
    "        int idx = i;\n",
    "        int j = i;\n",
    "        while(j <= dim - 8) {\n",
    "            arr = _mm512_loadu_pd(&v[j]);\n",
    "            minimum = min(minimum,_mm512_reduce_min_pd(arr));\n",
    "            if(minimum != lastMin) {\n",
    "                lastMin = minimum;\n",
    "                for(int k = 0 ; k < 8 ; k++) {\n",
    "                    if(v[j+k] == minimum) {\n",
    "                        idx = j+k;\n",
    "                        break;\n",
    "                    }\n",
    "                }\n",
    "            }\n",
    "            j += 8;\n",
    "        }\n",
    "        // use regular code to check the last values with index not multiple of 8\n",
    "        while(j < dim) {\n",
    "            if(v[j] < v[idx]) {\n",
    "                idx = j;\n",
    "            }\n",
    "            j++;\n",
    "        }\n",
    "        swap(v[i],v[idx]);\n",
    "    }\n",
    "}"
   ]
  },
  {
   "cell_type": "code",
   "execution_count": null,
   "metadata": {},
   "outputs": [],
   "source": [
    "void selectionSortAVX512_v2(double * v, int dim) {\n",
    "    __m512d arr,min_vect;\n",
    "    long idxs_arr[8] = {0,1,2,3,4,5,6,7};\n",
    "    __m512i c,idxs_vect = _mm512_load_epi64(idxs_arr);\n",
    "    __mmask8 mask;\n",
    "    for(int i = 0 ; i < dim ; i++) {\n",
    "        double minimum = v[i];\n",
    "        double last = minimum;\n",
    "        int idx = i;\n",
    "        int j = i;\n",
    "        while(j <= dim - 8) {\n",
    "            arr = _mm512_loadu_pd(&v[j]);\n",
    "            minimum = min(minimum,_mm512_reduce_min_pd(arr));\n",
    "            if(minimum != last) {\n",
    "                last = minimum;\n",
    "                min_vect = _mm512_set1_pd(minimum);\n",
    "                mask = _mm512_cmpeq_pd_mask(arr,min_vect);\n",
    "                c = _mm512_maskz_abs_epi64(mask,idxs_vect);\n",
    "                idx = j + _mm512_reduce_max_epi64(c);\n",
    "            }\n",
    "            j+=8;\n",
    "        }\n",
    "        // use regular code to check the last values with index not multiple of 8\n",
    "        while(j < dim) {\n",
    "            if(v[j] < v[idx]) {\n",
    "                idx = j;\n",
    "            }\n",
    "            j++;\n",
    "        }\n",
    "        swap(v[i],v[idx]);\n",
    "    }\n",
    "}"
   ]
  },
  {
   "cell_type": "markdown",
   "metadata": {},
   "source": [
    "### Statistiche `DA RISCRIVERE`\n",
    "Ho testato i vari algoritmi utilizzando *-O3*, *-O2*, *-O1* ; per ogni parametro ho testato array di lunghezza 1000, 10000 e 100000 ; per ognuno di questi ho fatto 100 simulazioni, ogni volta **i numeri inseriti nell'array sono in ordine decrescente**.\n",
    "\n",
    "Di seguito le mie considerazioni.\n",
    "\n",
    "- Come da aspettative ogni distribuzione dei tempi è molto ravvicinata, con una breve e rarefatta coda verso i tempi maggiori\n",
    "- Indipendentemente dalla lunghezza degli array i rapporti tra i vari algoritmi sono gli stessi, ma il grafico più esplicativo è quello in cui gli array hanno dimensione 10000.\n",
    "- L'algoritmo v0 (senza intrinsics ma ottimizzata solo dal compilatore) più veloce è utilizzando la flag *-O1*, che è circa il 22% più veloce dell'algoritmo *v0 -O3*.\n",
    "- L'algoritmo *v1* ha minime differenze tra *-O3*, *-O2* e *-O1*.\n",
    "- L'algoritmo *v2* invece ha differenze minime solo tra *-O2* e *-O1*.\n",
    "- Prendendo come base l'algoritmo *v0 -O1* (e considerando solo le mediane):\n",
    "    - L'algoritmo *v1 -O3* è il 10% più veloce\n",
    "    - L'algoritmo *v2 -O2* è il 27% più veloce\n",
    "\n",
    "Testando tutte le versioni degli algoritmi con array i cui dati sono generati casualmente (attraverso la `rand()` dopo una `srand(time(NULL))`) la principale differenza è che l'algoritmo *v1* si avvicina molto a quello *v2*.\n",
    "\n",
    "Prendendo ancora come base l'algoritmo *v0 -O1* (e considerando solo le mediane):\n",
    "- L'algoritmo *v1 -O3* è il 51% più veloce\n",
    "- L'algoritmo *v2 -O1* è il 54% più veloce"
   ]
  },
  {
   "cell_type": "markdown",
   "metadata": {},
   "source": [
    "# Considerazioni\n",
    "Premessa\n",
    "\n",
    "Ho testato le 3 versioni di *selectionSort* con array di dimensione 10,100,1000,10000 e 100000. Per ogni dimensione ho compilato sia con *-O1*, *-O2*, *-O3* (per tutti ho utilizzato *-march=znver5*). Per ognuno ho provato sia con la versione 0(senza SIMD),1 e 2 dell'algoritmo. Ogniuno è stato testato con array in ordine casuale, crescente e decrescente. Per ogni combinazione ho eseguito 20 volte per avere un sample size minimo.\n",
    "\n",
    "## Osservazioni \n",
    "- La flag *-O1* è quella che rende la versione *v0* $\\textrm{consistentemente}^{1}$ più rapido\n",
    "- La flag *-O3* è quella che rende la versione *v1* $\\textrm{consistentemente}^{1}$ (ma minimamente) più lento\n",
    "- Non ci sono sostanziali differenze tra *-O1*, *-O2* e *-O3* utilizzando la versione *v2*\n",
    "- Per array di dimensione 10 i valori sono troppo ravvicinati per ricavarne considerazioni\n",
    "- Per array di dimensione 100 si inizia a notare che il caso in cui i dati sono generati in ordine decrescente impiegano $\\textrm{consistentemente}^{2}$ meno tempo di quelli in cui sono inseriti in ordine casuale, ma non si apprezza differenze tra le versioni dell'algoritmo\n",
    "- A partire da array di dimensione 1000 si nota che qualsiasi versione risulta consistentemente più rapida se eseguita su array ordinati in modo decrescente che in modo casuale (ipotizzo sia dovuto alla branch prediction del processore)\n",
    "- Per array di dimensione 1000  notiamo che *v1* è il 13,6%$^{3}$ più veloce di *v0*, mentre *v2* lo è il 31,6%$^{3}$.\n",
    "\n",
    "Note:\n",
    "1. Per ogni lunghezza testata e per ogni ordinamento iniziale dell'array\n",
    "2. Per ogni lunghezza testata\n",
    "3. compilando tutto con flag *-O1* e utilizzando la mediana dei tempi impiegati per ordinare un array di numeri generati casualmente\n"
   ]
  },
  {
   "cell_type": "markdown",
   "metadata": {},
   "source": [
    "# Altre versioni\n",
    "Ho deciso di scrivere le mie versioni dell'algoritmo prima di fare di cerche per evitare di essere influenzato da algoritmi altrui.\n",
    "Cercando su internet non si trovano versioni di facile lettura, ma utilizzando i principali tool di assistenza alla programmazione possimamo ottenere alcuni spunti.\n",
    "- *ChatGPT*, anche dopo alcuni $\\textrm{solleciti}^{1}$, non restituisce un codice che esegue come richiesto.\n",
    "- *Microsoft copilot* restituisce un codice che esegue come richiesto e che, sfruttando instrinsics di cui non ero a conoscenza.\n",
    "\n",
    "Si osserva che la versione di *copilot* non necessita di un ciclo per gli ultimi massimo 7 valori, questo è dovuto alla prima condizione dell'if più interno.\n",
    "\n",
    "Note:\n",
    "1. Per solleciti sis intende messaggi in cui si precisa quale parte del codice correggere"
   ]
  },
  {
   "cell_type": "code",
   "execution_count": null,
   "metadata": {},
   "outputs": [],
   "source": [
    "void selectionSortAVX512_copilot(double* arr, int n) {\n",
    "    __m512d current_min_vals;\n",
    "    __mmask8 mask;\n",
    "    __m512d current_vals;\n",
    "    for (int i = 0; i < n - 1; ++i) {\n",
    "        int min_idx = i;\n",
    "        double min_val = arr[i];\n",
    "\n",
    "        for (int j = i + 1; j < n; j += 8) {\n",
    "            __m512d current_vals = _mm512_loadu_pd(&arr[j]);\n",
    "            __m512d current_min_vals = _mm512_set1_pd(min_val);\n",
    "            __mmask8 mask = _mm512_cmplt_pd_mask(current_vals, current_min_vals);\n",
    "            if (mask) {\n",
    "                // Extract the new minimum value from current_vals\n",
    "                for (int k = 0; k < 8; ++k) {\n",
    "                    if (j + k < n && (mask & (1 << k))) {\n",
    "                        if (arr[j + k] < min_val) {\n",
    "                            min_val = arr[j + k];\n",
    "                            min_idx = j + k;\n",
    "                        }\n",
    "                    }\n",
    "                }\n",
    "            }\n",
    "        }\n",
    "\n",
    "        // Swap the found minimum element with the first element\n",
    "        if (min_idx != i) {\n",
    "            std::swap(arr[i], arr[min_idx]);\n",
    "        }\n",
    "    }\n",
    "}"
   ]
  },
  {
   "cell_type": "code",
   "execution_count": null,
   "metadata": {},
   "outputs": [],
   "source": [
    "// per completezza\n",
    "void selectionSortAVX512_ChatGPT(double* arr, size_t size) {\n",
    "    for (size_t i = 0; i < size; ++i) {\n",
    "        size_t min_index = i;\n",
    "        double min_val = arr[i];\n",
    "\n",
    "        // Find the minimum in the remaining array using AVX-512\n",
    "        for (size_t j = i; j + 8 <= size; j += 8) {\n",
    "            // Load 8 elements into an AVX-512 register\n",
    "            __m512d reg = _mm512_loadu_pd(&arr[j]);\n",
    "\n",
    "            // Compare and find the minimum value in the register\n",
    "            __mmask8 cmp_mask = _mm512_cmp_pd_mask(reg, _mm512_set1_pd(min_val), _CMP_LT_OQ);\n",
    "\n",
    "            // Update min_val and min_index directly using intrinsics\n",
    "            if (cmp_mask) {\n",
    "                // prende il primo, non funziona\n",
    "                int first_true = _tzcnt_u32(cmp_mask); // Get the index of the first true comparison\n",
    "                min_val = arr[j + first_true];\n",
    "                min_index = j + first_true;\n",
    "            }\n",
    "        }\n",
    "\n",
    "        // Check any remaining elements not fitting in an AVX-512 register\n",
    "        for (size_t j = (size / 8) * 8; j < size; ++j) {\n",
    "            if (arr[j] < min_val) {\n",
    "                min_val = arr[j];\n",
    "                min_index = j;\n",
    "            }\n",
    "        }\n",
    "\n",
    "        // Swap the found minimum with the current element\n",
    "        if (min_index != i) {\n",
    "            std::swap(arr[i], arr[min_index]);\n",
    "        }\n",
    "    }\n",
    "}"
   ]
  },
  {
   "cell_type": "markdown",
   "metadata": {},
   "source": [
    "## Osservazioni\n",
    "La versione *copilot* è sostanzialmente equivalente alla *v2*$^{1}$ per array di dimensione 1000, mentre al crescere della dimensione degli array aumenta il distacco a suo favore. Questo è dovuto al fatto che il codice tra il secondo for e l'if successivo è molto più efficiente dell'analoga parte di *v2*. Tuttavia la parte interna al suddetto if è più rapida nella versione *v2*.\n",
    "\n",
    "Unendo le due versioni otteniamo la versione *v5*.\n",
    "\n",
    "Note:\n",
    "1. per array non ordinati"
   ]
  },
  {
   "cell_type": "code",
   "execution_count": null,
   "metadata": {},
   "outputs": [],
   "source": [
    "void selectionSortAVX512_v5(double * v, int dim) {\n",
    "    __m512d arr,min_vect;\n",
    "    long idxs_arr[8] = {0,1,2,3,4,5,6,7};\n",
    "    __m512i c,idxs_vect = _mm512_load_epi64(idxs_arr);\n",
    "    __mmask8 mask;\n",
    "    for(int i = 0 ; i < dim ; i++) {\n",
    "        double minimum = v[i];\n",
    "        double last = minimum;\n",
    "        int idx = i;\n",
    "        int j = i + 1;\n",
    "        min_vect = _mm512_set1_pd(minimum);\n",
    "        while(j < dim -8) {\n",
    "            arr = _mm512_loadu_pd(&v[j]);\n",
    "            mask = _mm512_cmplt_pd_mask(arr, min_vect);\n",
    "            if(mask) {\n",
    "                minimum = _mm512_reduce_min_pd(arr);\n",
    "                min_vect = _mm512_set1_pd(minimum);\n",
    "                mask = _mm512_cmpeq_pd_mask(arr,min_vect);\n",
    "                c = _mm512_maskz_abs_epi64(mask,idxs_vect);\n",
    "                idx = j + _mm512_reduce_max_epi64(c);\n",
    "                min_vect = _mm512_set1_pd(minimum);\n",
    "            }\n",
    "            j+=8;\n",
    "        }\n",
    "        while(j < dim) {\n",
    "            if(v[j] < v[idx]) {\n",
    "                idx = j;\n",
    "            }\n",
    "            j++;\n",
    "        }\n",
    "        swap(v[i],v[idx]);\n",
    "    }\n",
    "}"
   ]
  },
  {
   "cell_type": "markdown",
   "metadata": {},
   "source": [
    "Con array di lunghezza 1000 questa versione compilata con la flag *-O1* risulta la più lenta con uno scarto del 6.8%, tuttavia all'aumentare della lunghezza la differenza diventa sempre più insignificante.\n",
    "\n",
    "Su array di dimensione 1000 questa versione è il 29.2%$^{2}$ più veloce delle versioni *v2* e *copilot*, mentre è il 51.7% più veloce della versione *v0*\n",
    "\n",
    "All'aumentare della dimensione la versione *copilot* si avvicina sempre di più, perché la parte di codice che le distingue viene eseguita meno $\\textrm{volte}^{3}$\n",
    "\n",
    "Note:\n",
    "1. Su array con valori casuali\n",
    "2. Statistica calcolata su 100 esecuzioni con array di elementi casuali casuali\n",
    "3. Possiamo notarlo anche con la differenza tra le versioni *v1* e *v2*"
   ]
  },
  {
   "cell_type": "markdown",
   "metadata": {},
   "source": [
    "eseguendo un test estensivo ho notato una estrema differenza tra le statistiche degli algoritmi compilati con la flag *-O1* e gli altri(quasi il doppio nel tempo di esecuzione), quindi ho deciso di eseguire nuovamente i test ma lasciando al computer più spazio per aspirare l'aria, sperando che sia sufficiente. Altrimenti sarò costtretto ad eseguire un carico molto elevato prima in modo da avere il processore in thermal protection durante tutti i test.\n",
    "pare abbia trovato un equilibrio intorno ai 65/66 gradi"
   ]
  },
  {
   "cell_type": "markdown",
   "metadata": {},
   "source": [
    "# bubbleSort\n",
    "Analogamente al selectionSort ho implementato 2 versioni del bubbleSort più una in cui il ciclo interno è branchless"
   ]
  },
  {
   "cell_type": "code",
   "execution_count": null,
   "metadata": {},
   "outputs": [],
   "source": [
    "void bubbleSortAVX512_v1(double * v, int dim) {\n",
    "    __m512d arr;\n",
    "    for(int i = dim - 1 ; i >= 0 ; i--) {\n",
    "        double maximum;\n",
    "        int j = 0;\n",
    "        while(j < i - 8) {\n",
    "            arr = _mm512_loadu_pd(&v[j]);\n",
    "            maximum = _mm512_reduce_max_pd(arr);\n",
    "            if(maximum != v[j+7]) {\n",
    "                for(int k = 0 ; k < 8 ; k++) {\n",
    "                    if(v[j+k] == maximum) {\n",
    "                        std::swap(v[j+7],v[j+k]);\n",
    "                        break;\n",
    "                    }\n",
    "                }\n",
    "            }\n",
    "            j += 7;\n",
    "        }\n",
    "        while(j <= i - 1) {\n",
    "            if(v[j] > v[j+1]) {\n",
    "                std::swap(v[j],v[j+1]);\n",
    "            }\n",
    "            j++;\n",
    "        }\n",
    "    } \n",
    "    t.stop();\n",
    "}"
   ]
  },
  {
   "cell_type": "code",
   "execution_count": null,
   "metadata": {},
   "outputs": [],
   "source": [
    "void bubbleSortAVX512_v2(double * v, int dim) {\n",
    "    __m512d arr,max_vect;\n",
    "    long idxs_arr[16] = {0,1,2,3,4,5,6,7};\n",
    "    __m512i c,idxs_vect = _mm512_load_epi64(idxs_arr);\n",
    "    __mmask8 mask;\n",
    "    for(int i = dim - 1 ; i >= 0 ; i--) {\n",
    "        double maximum;\n",
    "        int j = 0;\n",
    "        while(j < i - 8) {\n",
    "            arr = _mm512_loadu_pd(&v[j]);\n",
    "            maximum = _mm512_reduce_max_pd(arr);\n",
    "            if(maximum != v[j+7]) {\n",
    "                max_vect = _mm512_set1_pd(maximum);\n",
    "                mask = _mm512_cmpeq_pd_mask(arr,max_vect);\n",
    "                c = _mm512_maskz_abs_epi64(mask,idxs_vect);\n",
    "                int idx = j + _mm512_reduce_max_epi64(c);\n",
    "                std::swap(v[idx],v[j+7]);\n",
    "            }\n",
    "            j += 7;\n",
    "        }\n",
    "        while(j <= i - 1) {\n",
    "            if(v[j] > v[j+1]) {\n",
    "                std::swap(v[j],v[j+1]);\n",
    "            }\n",
    "            j++;\n",
    "        }\n",
    "    }\n",
    "}"
   ]
  },
  {
   "cell_type": "code",
   "execution_count": null,
   "metadata": {},
   "outputs": [],
   "source": [
    "void bubbleSortAVX512_v3(double * v, int dim) {\n",
    "    __m512d arr,max_vect;\n",
    "    long idxs_arr[16] = {0,1,2,3,4,5,6,7};\n",
    "    __m512i c,idxs_vect = _mm512_load_epi64(idxs_arr);\n",
    "    __mmask8 mask;\n",
    "    for(int i = dim - 1 ; i >= 0 ; i--) {\n",
    "        double maximum;\n",
    "        int j = 0;\n",
    "        while(j < i - 8) {\n",
    "            arr = _mm512_loadu_pd(&v[j]);\n",
    "            maximum = _mm512_reduce_max_pd(arr);\n",
    "            max_vect = _mm512_set1_pd(maximum);\n",
    "            mask = _mm512_cmpeq_pd_mask(arr,max_vect);\n",
    "            c = _mm512_maskz_abs_epi64(mask,idxs_vect);\n",
    "            int idx = j + _mm512_reduce_max_epi64(c);\n",
    "            std::swap(v[idx],v[j+7]);\n",
    "            j += 7;\n",
    "        }\n",
    "        while(j <= i - 1) {\n",
    "            if(v[j] > v[j+1]) {\n",
    "                std::swap(v[j],v[j+1]);\n",
    "            }\n",
    "            j++;\n",
    "        }\n",
    "    }\n",
    "}"
   ]
  },
  {
   "cell_type": "markdown",
   "metadata": {},
   "source": [
    "Ho deciso di implementare il bubbleSort invertendo l'elemento di valore maggiore con quello nel registro con indice più alto in ogni passata del ciclo interno.\n",
    "Analogamente al selectionSort ho scritto una prima versione che utilizza un ciclo for e una che utilizza le istruzioni SIMD per trovare l'indice del valore massimo, mentre la terza sposta a priori il massimo all'indice massimo del vettore.\n",
    "\n",
    "Considerazioni:\n",
    "- "
   ]
  }
 ],
 "metadata": {
  "kernelspec": {
   "display_name": "Python 3",
   "language": "python",
   "name": "python3"
  },
  "language_info": {
   "codemirror_mode": {
    "name": "ipython",
    "version": 3
   },
   "file_extension": ".py",
   "mimetype": "text/x-python",
   "name": "python",
   "nbconvert_exporter": "python",
   "pygments_lexer": "ipython3",
   "version": "3.12.7"
  }
 },
 "nbformat": 4,
 "nbformat_minor": 2
}
